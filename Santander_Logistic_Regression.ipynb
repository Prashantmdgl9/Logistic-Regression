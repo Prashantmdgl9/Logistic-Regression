{
 "cells": [
  {
   "cell_type": "code",
   "execution_count": 1,
   "metadata": {
    "collapsed": true
   },
   "outputs": [],
   "source": [
    "import pandas as pd\n",
    "import numpy as np"
   ]
  },
  {
   "cell_type": "code",
   "execution_count": 2,
   "metadata": {
    "collapsed": true
   },
   "outputs": [],
   "source": [
    "train = pd.read_csv(\"/Users/prashantmudgal/Documents/Kaggle/Santander/train.csv\")\n",
    "test = pd.read_csv(\"/Users/prashantmudgal/Documents/Kaggle/Santander/test.csv\")"
   ]
  },
  {
   "cell_type": "code",
   "execution_count": 3,
   "metadata": {
    "collapsed": true
   },
   "outputs": [],
   "source": [
    "test[\"TARGET\"] = 0"
   ]
  },
  {
   "cell_type": "code",
   "execution_count": 4,
   "metadata": {
    "collapsed": false
   },
   "outputs": [],
   "source": [
    "fullData = pd.concat([train,test], ignore_index = True)"
   ]
  },
  {
   "cell_type": "code",
   "execution_count": 5,
   "metadata": {
    "collapsed": false
   },
   "outputs": [
    {
     "data": {
      "text/html": [
       "<div>\n",
       "<table border=\"1\" class=\"dataframe\">\n",
       "  <thead>\n",
       "    <tr style=\"text-align: right;\">\n",
       "      <th></th>\n",
       "      <th>ID</th>\n",
       "      <th>var3</th>\n",
       "      <th>var15</th>\n",
       "      <th>imp_ent_var16_ult1</th>\n",
       "      <th>imp_op_var39_comer_ult1</th>\n",
       "      <th>imp_op_var39_comer_ult3</th>\n",
       "      <th>imp_op_var40_comer_ult1</th>\n",
       "      <th>imp_op_var40_comer_ult3</th>\n",
       "      <th>imp_op_var40_efect_ult1</th>\n",
       "      <th>imp_op_var40_efect_ult3</th>\n",
       "      <th>...</th>\n",
       "      <th>saldo_medio_var33_hace2</th>\n",
       "      <th>saldo_medio_var33_hace3</th>\n",
       "      <th>saldo_medio_var33_ult1</th>\n",
       "      <th>saldo_medio_var33_ult3</th>\n",
       "      <th>saldo_medio_var44_hace2</th>\n",
       "      <th>saldo_medio_var44_hace3</th>\n",
       "      <th>saldo_medio_var44_ult1</th>\n",
       "      <th>saldo_medio_var44_ult3</th>\n",
       "      <th>var38</th>\n",
       "      <th>TARGET</th>\n",
       "    </tr>\n",
       "  </thead>\n",
       "  <tbody>\n",
       "    <tr>\n",
       "      <th>0</th>\n",
       "      <td>1</td>\n",
       "      <td>2</td>\n",
       "      <td>23</td>\n",
       "      <td>0.0</td>\n",
       "      <td>0.0</td>\n",
       "      <td>0.0</td>\n",
       "      <td>0.0</td>\n",
       "      <td>0.0</td>\n",
       "      <td>0.0</td>\n",
       "      <td>0.0</td>\n",
       "      <td>...</td>\n",
       "      <td>0.0</td>\n",
       "      <td>0.0</td>\n",
       "      <td>0.0</td>\n",
       "      <td>0.0</td>\n",
       "      <td>0.0</td>\n",
       "      <td>0.0</td>\n",
       "      <td>0.0</td>\n",
       "      <td>0.0</td>\n",
       "      <td>39205.17</td>\n",
       "      <td>0</td>\n",
       "    </tr>\n",
       "    <tr>\n",
       "      <th>1</th>\n",
       "      <td>3</td>\n",
       "      <td>2</td>\n",
       "      <td>34</td>\n",
       "      <td>0.0</td>\n",
       "      <td>0.0</td>\n",
       "      <td>0.0</td>\n",
       "      <td>0.0</td>\n",
       "      <td>0.0</td>\n",
       "      <td>0.0</td>\n",
       "      <td>0.0</td>\n",
       "      <td>...</td>\n",
       "      <td>0.0</td>\n",
       "      <td>0.0</td>\n",
       "      <td>0.0</td>\n",
       "      <td>0.0</td>\n",
       "      <td>0.0</td>\n",
       "      <td>0.0</td>\n",
       "      <td>0.0</td>\n",
       "      <td>0.0</td>\n",
       "      <td>49278.03</td>\n",
       "      <td>0</td>\n",
       "    </tr>\n",
       "    <tr>\n",
       "      <th>2</th>\n",
       "      <td>4</td>\n",
       "      <td>2</td>\n",
       "      <td>23</td>\n",
       "      <td>0.0</td>\n",
       "      <td>0.0</td>\n",
       "      <td>0.0</td>\n",
       "      <td>0.0</td>\n",
       "      <td>0.0</td>\n",
       "      <td>0.0</td>\n",
       "      <td>0.0</td>\n",
       "      <td>...</td>\n",
       "      <td>0.0</td>\n",
       "      <td>0.0</td>\n",
       "      <td>0.0</td>\n",
       "      <td>0.0</td>\n",
       "      <td>0.0</td>\n",
       "      <td>0.0</td>\n",
       "      <td>0.0</td>\n",
       "      <td>0.0</td>\n",
       "      <td>67333.77</td>\n",
       "      <td>0</td>\n",
       "    </tr>\n",
       "    <tr>\n",
       "      <th>3</th>\n",
       "      <td>8</td>\n",
       "      <td>2</td>\n",
       "      <td>37</td>\n",
       "      <td>0.0</td>\n",
       "      <td>195.0</td>\n",
       "      <td>195.0</td>\n",
       "      <td>0.0</td>\n",
       "      <td>0.0</td>\n",
       "      <td>0.0</td>\n",
       "      <td>0.0</td>\n",
       "      <td>...</td>\n",
       "      <td>0.0</td>\n",
       "      <td>0.0</td>\n",
       "      <td>0.0</td>\n",
       "      <td>0.0</td>\n",
       "      <td>0.0</td>\n",
       "      <td>0.0</td>\n",
       "      <td>0.0</td>\n",
       "      <td>0.0</td>\n",
       "      <td>64007.97</td>\n",
       "      <td>0</td>\n",
       "    </tr>\n",
       "  </tbody>\n",
       "</table>\n",
       "<p>4 rows × 371 columns</p>\n",
       "</div>"
      ],
      "text/plain": [
       "   ID  var3  var15  imp_ent_var16_ult1  imp_op_var39_comer_ult1  \\\n",
       "0   1     2     23                 0.0                      0.0   \n",
       "1   3     2     34                 0.0                      0.0   \n",
       "2   4     2     23                 0.0                      0.0   \n",
       "3   8     2     37                 0.0                    195.0   \n",
       "\n",
       "   imp_op_var39_comer_ult3  imp_op_var40_comer_ult1  imp_op_var40_comer_ult3  \\\n",
       "0                      0.0                      0.0                      0.0   \n",
       "1                      0.0                      0.0                      0.0   \n",
       "2                      0.0                      0.0                      0.0   \n",
       "3                    195.0                      0.0                      0.0   \n",
       "\n",
       "   imp_op_var40_efect_ult1  imp_op_var40_efect_ult3   ...    \\\n",
       "0                      0.0                      0.0   ...     \n",
       "1                      0.0                      0.0   ...     \n",
       "2                      0.0                      0.0   ...     \n",
       "3                      0.0                      0.0   ...     \n",
       "\n",
       "   saldo_medio_var33_hace2  saldo_medio_var33_hace3  saldo_medio_var33_ult1  \\\n",
       "0                      0.0                      0.0                     0.0   \n",
       "1                      0.0                      0.0                     0.0   \n",
       "2                      0.0                      0.0                     0.0   \n",
       "3                      0.0                      0.0                     0.0   \n",
       "\n",
       "   saldo_medio_var33_ult3  saldo_medio_var44_hace2  saldo_medio_var44_hace3  \\\n",
       "0                     0.0                      0.0                      0.0   \n",
       "1                     0.0                      0.0                      0.0   \n",
       "2                     0.0                      0.0                      0.0   \n",
       "3                     0.0                      0.0                      0.0   \n",
       "\n",
       "   saldo_medio_var44_ult1  saldo_medio_var44_ult3     var38  TARGET  \n",
       "0                     0.0                     0.0  39205.17       0  \n",
       "1                     0.0                     0.0  49278.03       0  \n",
       "2                     0.0                     0.0  67333.77       0  \n",
       "3                     0.0                     0.0  64007.97       0  \n",
       "\n",
       "[4 rows x 371 columns]"
      ]
     },
     "execution_count": 5,
     "metadata": {},
     "output_type": "execute_result"
    }
   ],
   "source": [
    "train.head(4)\n",
    "test.head(4)\n",
    "fullData.head(4)"
   ]
  },
  {
   "cell_type": "code",
   "execution_count": 6,
   "metadata": {
    "collapsed": false
   },
   "outputs": [
    {
     "data": {
      "text/html": [
       "<div>\n",
       "<table border=\"1\" class=\"dataframe\">\n",
       "  <thead>\n",
       "    <tr style=\"text-align: right;\">\n",
       "      <th></th>\n",
       "      <th>ID</th>\n",
       "      <th>var3</th>\n",
       "      <th>var15</th>\n",
       "      <th>imp_ent_var16_ult1</th>\n",
       "      <th>imp_op_var39_comer_ult1</th>\n",
       "      <th>imp_op_var39_comer_ult3</th>\n",
       "      <th>imp_op_var40_comer_ult1</th>\n",
       "      <th>imp_op_var40_comer_ult3</th>\n",
       "      <th>imp_op_var40_efect_ult1</th>\n",
       "      <th>imp_op_var40_efect_ult3</th>\n",
       "      <th>...</th>\n",
       "      <th>saldo_medio_var33_hace2</th>\n",
       "      <th>saldo_medio_var33_hace3</th>\n",
       "      <th>saldo_medio_var33_ult1</th>\n",
       "      <th>saldo_medio_var33_ult3</th>\n",
       "      <th>saldo_medio_var44_hace2</th>\n",
       "      <th>saldo_medio_var44_hace3</th>\n",
       "      <th>saldo_medio_var44_ult1</th>\n",
       "      <th>saldo_medio_var44_ult3</th>\n",
       "      <th>var38</th>\n",
       "      <th>TARGET</th>\n",
       "    </tr>\n",
       "  </thead>\n",
       "  <tbody>\n",
       "    <tr>\n",
       "      <th>count</th>\n",
       "      <td>151838.000000</td>\n",
       "      <td>151838.000000</td>\n",
       "      <td>151838.000000</td>\n",
       "      <td>151838.000000</td>\n",
       "      <td>151838.000000</td>\n",
       "      <td>151838.000000</td>\n",
       "      <td>151838.000000</td>\n",
       "      <td>151838.000000</td>\n",
       "      <td>151838.000000</td>\n",
       "      <td>151838.000000</td>\n",
       "      <td>...</td>\n",
       "      <td>151838.000000</td>\n",
       "      <td>151838.000000</td>\n",
       "      <td>151838.000000</td>\n",
       "      <td>151838.000000</td>\n",
       "      <td>151838.000000</td>\n",
       "      <td>151838.000000</td>\n",
       "      <td>151838.000000</td>\n",
       "      <td>151838.000000</td>\n",
       "      <td>1.518380e+05</td>\n",
       "      <td>151838.000000</td>\n",
       "    </tr>\n",
       "    <tr>\n",
       "      <th>mean</th>\n",
       "      <td>75919.500000</td>\n",
       "      <td>-1551.539391</td>\n",
       "      <td>33.175898</td>\n",
       "      <td>84.688322</td>\n",
       "      <td>73.336683</td>\n",
       "      <td>121.330641</td>\n",
       "      <td>4.068145</td>\n",
       "      <td>7.068982</td>\n",
       "      <td>0.441757</td>\n",
       "      <td>0.619828</td>\n",
       "      <td>...</td>\n",
       "      <td>10.184196</td>\n",
       "      <td>1.346302</td>\n",
       "      <td>14.839290</td>\n",
       "      <td>10.726624</td>\n",
       "      <td>47.530234</td>\n",
       "      <td>6.625190</td>\n",
       "      <td>85.986327</td>\n",
       "      <td>63.550096</td>\n",
       "      <td>1.173110e+05</td>\n",
       "      <td>0.019811</td>\n",
       "    </tr>\n",
       "    <tr>\n",
       "      <th>std</th>\n",
       "      <td>43831.999424</td>\n",
       "      <td>39394.010507</td>\n",
       "      <td>12.944275</td>\n",
       "      <td>1655.242347</td>\n",
       "      <td>351.967351</td>\n",
       "      <td>577.094428</td>\n",
       "      <td>115.015926</td>\n",
       "      <td>201.304542</td>\n",
       "      <td>32.359675</td>\n",
       "      <td>39.528498</td>\n",
       "      <td>...</td>\n",
       "      <td>750.300862</td>\n",
       "      <td>144.945384</td>\n",
       "      <td>1044.316933</td>\n",
       "      <td>738.430127</td>\n",
       "      <td>3011.415348</td>\n",
       "      <td>757.611606</td>\n",
       "      <td>4360.172261</td>\n",
       "      <td>3094.024954</td>\n",
       "      <td>2.177175e+05</td>\n",
       "      <td>0.139349</td>\n",
       "    </tr>\n",
       "    <tr>\n",
       "      <th>min</th>\n",
       "      <td>1.000000</td>\n",
       "      <td>-999999.000000</td>\n",
       "      <td>5.000000</td>\n",
       "      <td>0.000000</td>\n",
       "      <td>0.000000</td>\n",
       "      <td>0.000000</td>\n",
       "      <td>0.000000</td>\n",
       "      <td>0.000000</td>\n",
       "      <td>0.000000</td>\n",
       "      <td>0.000000</td>\n",
       "      <td>...</td>\n",
       "      <td>0.000000</td>\n",
       "      <td>0.000000</td>\n",
       "      <td>-0.600000</td>\n",
       "      <td>-0.600000</td>\n",
       "      <td>0.000000</td>\n",
       "      <td>0.000000</td>\n",
       "      <td>0.000000</td>\n",
       "      <td>0.000000</td>\n",
       "      <td>1.202730e+03</td>\n",
       "      <td>0.000000</td>\n",
       "    </tr>\n",
       "    <tr>\n",
       "      <th>25%</th>\n",
       "      <td>37960.250000</td>\n",
       "      <td>2.000000</td>\n",
       "      <td>23.000000</td>\n",
       "      <td>0.000000</td>\n",
       "      <td>0.000000</td>\n",
       "      <td>0.000000</td>\n",
       "      <td>0.000000</td>\n",
       "      <td>0.000000</td>\n",
       "      <td>0.000000</td>\n",
       "      <td>0.000000</td>\n",
       "      <td>...</td>\n",
       "      <td>0.000000</td>\n",
       "      <td>0.000000</td>\n",
       "      <td>0.000000</td>\n",
       "      <td>0.000000</td>\n",
       "      <td>0.000000</td>\n",
       "      <td>0.000000</td>\n",
       "      <td>0.000000</td>\n",
       "      <td>0.000000</td>\n",
       "      <td>6.770562e+04</td>\n",
       "      <td>0.000000</td>\n",
       "    </tr>\n",
       "    <tr>\n",
       "      <th>50%</th>\n",
       "      <td>75919.500000</td>\n",
       "      <td>2.000000</td>\n",
       "      <td>27.000000</td>\n",
       "      <td>0.000000</td>\n",
       "      <td>0.000000</td>\n",
       "      <td>0.000000</td>\n",
       "      <td>0.000000</td>\n",
       "      <td>0.000000</td>\n",
       "      <td>0.000000</td>\n",
       "      <td>0.000000</td>\n",
       "      <td>...</td>\n",
       "      <td>0.000000</td>\n",
       "      <td>0.000000</td>\n",
       "      <td>0.000000</td>\n",
       "      <td>0.000000</td>\n",
       "      <td>0.000000</td>\n",
       "      <td>0.000000</td>\n",
       "      <td>0.000000</td>\n",
       "      <td>0.000000</td>\n",
       "      <td>1.061020e+05</td>\n",
       "      <td>0.000000</td>\n",
       "    </tr>\n",
       "    <tr>\n",
       "      <th>75%</th>\n",
       "      <td>113878.750000</td>\n",
       "      <td>2.000000</td>\n",
       "      <td>39.000000</td>\n",
       "      <td>0.000000</td>\n",
       "      <td>0.000000</td>\n",
       "      <td>0.000000</td>\n",
       "      <td>0.000000</td>\n",
       "      <td>0.000000</td>\n",
       "      <td>0.000000</td>\n",
       "      <td>0.000000</td>\n",
       "      <td>...</td>\n",
       "      <td>0.000000</td>\n",
       "      <td>0.000000</td>\n",
       "      <td>0.000000</td>\n",
       "      <td>0.000000</td>\n",
       "      <td>0.000000</td>\n",
       "      <td>0.000000</td>\n",
       "      <td>0.000000</td>\n",
       "      <td>0.000000</td>\n",
       "      <td>1.185435e+05</td>\n",
       "      <td>0.000000</td>\n",
       "    </tr>\n",
       "    <tr>\n",
       "      <th>max</th>\n",
       "      <td>151838.000000</td>\n",
       "      <td>238.000000</td>\n",
       "      <td>105.000000</td>\n",
       "      <td>240000.000000</td>\n",
       "      <td>21093.960000</td>\n",
       "      <td>47943.960000</td>\n",
       "      <td>21093.960000</td>\n",
       "      <td>47943.960000</td>\n",
       "      <td>6600.000000</td>\n",
       "      <td>6600.000000</td>\n",
       "      <td>...</td>\n",
       "      <td>146605.320000</td>\n",
       "      <td>40080.600000</td>\n",
       "      <td>162355.800000</td>\n",
       "      <td>138054.960000</td>\n",
       "      <td>453893.400000</td>\n",
       "      <td>217762.230000</td>\n",
       "      <td>681462.900000</td>\n",
       "      <td>397884.300000</td>\n",
       "      <td>2.889440e+07</td>\n",
       "      <td>1.000000</td>\n",
       "    </tr>\n",
       "  </tbody>\n",
       "</table>\n",
       "<p>8 rows × 371 columns</p>\n",
       "</div>"
      ],
      "text/plain": [
       "                  ID           var3          var15  imp_ent_var16_ult1  \\\n",
       "count  151838.000000  151838.000000  151838.000000       151838.000000   \n",
       "mean    75919.500000   -1551.539391      33.175898           84.688322   \n",
       "std     43831.999424   39394.010507      12.944275         1655.242347   \n",
       "min         1.000000 -999999.000000       5.000000            0.000000   \n",
       "25%     37960.250000       2.000000      23.000000            0.000000   \n",
       "50%     75919.500000       2.000000      27.000000            0.000000   \n",
       "75%    113878.750000       2.000000      39.000000            0.000000   \n",
       "max    151838.000000     238.000000     105.000000       240000.000000   \n",
       "\n",
       "       imp_op_var39_comer_ult1  imp_op_var39_comer_ult3  \\\n",
       "count            151838.000000            151838.000000   \n",
       "mean                 73.336683               121.330641   \n",
       "std                 351.967351               577.094428   \n",
       "min                   0.000000                 0.000000   \n",
       "25%                   0.000000                 0.000000   \n",
       "50%                   0.000000                 0.000000   \n",
       "75%                   0.000000                 0.000000   \n",
       "max               21093.960000             47943.960000   \n",
       "\n",
       "       imp_op_var40_comer_ult1  imp_op_var40_comer_ult3  \\\n",
       "count            151838.000000            151838.000000   \n",
       "mean                  4.068145                 7.068982   \n",
       "std                 115.015926               201.304542   \n",
       "min                   0.000000                 0.000000   \n",
       "25%                   0.000000                 0.000000   \n",
       "50%                   0.000000                 0.000000   \n",
       "75%                   0.000000                 0.000000   \n",
       "max               21093.960000             47943.960000   \n",
       "\n",
       "       imp_op_var40_efect_ult1  imp_op_var40_efect_ult3      ...        \\\n",
       "count            151838.000000            151838.000000      ...         \n",
       "mean                  0.441757                 0.619828      ...         \n",
       "std                  32.359675                39.528498      ...         \n",
       "min                   0.000000                 0.000000      ...         \n",
       "25%                   0.000000                 0.000000      ...         \n",
       "50%                   0.000000                 0.000000      ...         \n",
       "75%                   0.000000                 0.000000      ...         \n",
       "max                6600.000000              6600.000000      ...         \n",
       "\n",
       "       saldo_medio_var33_hace2  saldo_medio_var33_hace3  \\\n",
       "count            151838.000000            151838.000000   \n",
       "mean                 10.184196                 1.346302   \n",
       "std                 750.300862               144.945384   \n",
       "min                   0.000000                 0.000000   \n",
       "25%                   0.000000                 0.000000   \n",
       "50%                   0.000000                 0.000000   \n",
       "75%                   0.000000                 0.000000   \n",
       "max              146605.320000             40080.600000   \n",
       "\n",
       "       saldo_medio_var33_ult1  saldo_medio_var33_ult3  \\\n",
       "count           151838.000000           151838.000000   \n",
       "mean                14.839290               10.726624   \n",
       "std               1044.316933              738.430127   \n",
       "min                 -0.600000               -0.600000   \n",
       "25%                  0.000000                0.000000   \n",
       "50%                  0.000000                0.000000   \n",
       "75%                  0.000000                0.000000   \n",
       "max             162355.800000           138054.960000   \n",
       "\n",
       "       saldo_medio_var44_hace2  saldo_medio_var44_hace3  \\\n",
       "count            151838.000000            151838.000000   \n",
       "mean                 47.530234                 6.625190   \n",
       "std                3011.415348               757.611606   \n",
       "min                   0.000000                 0.000000   \n",
       "25%                   0.000000                 0.000000   \n",
       "50%                   0.000000                 0.000000   \n",
       "75%                   0.000000                 0.000000   \n",
       "max              453893.400000            217762.230000   \n",
       "\n",
       "       saldo_medio_var44_ult1  saldo_medio_var44_ult3         var38  \\\n",
       "count           151838.000000           151838.000000  1.518380e+05   \n",
       "mean                85.986327               63.550096  1.173110e+05   \n",
       "std               4360.172261             3094.024954  2.177175e+05   \n",
       "min                  0.000000                0.000000  1.202730e+03   \n",
       "25%                  0.000000                0.000000  6.770562e+04   \n",
       "50%                  0.000000                0.000000  1.061020e+05   \n",
       "75%                  0.000000                0.000000  1.185435e+05   \n",
       "max             681462.900000           397884.300000  2.889440e+07   \n",
       "\n",
       "              TARGET  \n",
       "count  151838.000000  \n",
       "mean        0.019811  \n",
       "std         0.139349  \n",
       "min         0.000000  \n",
       "25%         0.000000  \n",
       "50%         0.000000  \n",
       "75%         0.000000  \n",
       "max         1.000000  \n",
       "\n",
       "[8 rows x 371 columns]"
      ]
     },
     "execution_count": 6,
     "metadata": {},
     "output_type": "execute_result"
    }
   ],
   "source": [
    "fullData.describe()"
   ]
  },
  {
   "cell_type": "code",
   "execution_count": 7,
   "metadata": {
    "collapsed": false
   },
   "outputs": [
    {
     "data": {
      "text/plain": [
       "ID                                 int64\n",
       "var3                               int64\n",
       "var15                              int64\n",
       "imp_ent_var16_ult1               float64\n",
       "imp_op_var39_comer_ult1          float64\n",
       "imp_op_var39_comer_ult3          float64\n",
       "imp_op_var40_comer_ult1          float64\n",
       "imp_op_var40_comer_ult3          float64\n",
       "imp_op_var40_efect_ult1          float64\n",
       "imp_op_var40_efect_ult3          float64\n",
       "imp_op_var40_ult1                float64\n",
       "imp_op_var41_comer_ult1          float64\n",
       "imp_op_var41_comer_ult3          float64\n",
       "imp_op_var41_efect_ult1          float64\n",
       "imp_op_var41_efect_ult3          float64\n",
       "imp_op_var41_ult1                float64\n",
       "imp_op_var39_efect_ult1          float64\n",
       "imp_op_var39_efect_ult3          float64\n",
       "imp_op_var39_ult1                float64\n",
       "imp_sal_var16_ult1               float64\n",
       "ind_var1_0                         int64\n",
       "ind_var1                           int64\n",
       "ind_var2_0                         int64\n",
       "ind_var2                           int64\n",
       "ind_var5_0                         int64\n",
       "ind_var5                           int64\n",
       "ind_var6_0                         int64\n",
       "ind_var6                           int64\n",
       "ind_var8_0                         int64\n",
       "ind_var8                           int64\n",
       "                                  ...   \n",
       "saldo_medio_var13_corto_hace2    float64\n",
       "saldo_medio_var13_corto_hace3    float64\n",
       "saldo_medio_var13_corto_ult1     float64\n",
       "saldo_medio_var13_corto_ult3     float64\n",
       "saldo_medio_var13_largo_hace2    float64\n",
       "saldo_medio_var13_largo_hace3    float64\n",
       "saldo_medio_var13_largo_ult1     float64\n",
       "saldo_medio_var13_largo_ult3     float64\n",
       "saldo_medio_var13_medio_hace2    float64\n",
       "saldo_medio_var13_medio_hace3      int64\n",
       "saldo_medio_var13_medio_ult1     float64\n",
       "saldo_medio_var13_medio_ult3     float64\n",
       "saldo_medio_var17_hace2          float64\n",
       "saldo_medio_var17_hace3          float64\n",
       "saldo_medio_var17_ult1           float64\n",
       "saldo_medio_var17_ult3           float64\n",
       "saldo_medio_var29_hace2          float64\n",
       "saldo_medio_var29_hace3          float64\n",
       "saldo_medio_var29_ult1           float64\n",
       "saldo_medio_var29_ult3           float64\n",
       "saldo_medio_var33_hace2          float64\n",
       "saldo_medio_var33_hace3          float64\n",
       "saldo_medio_var33_ult1           float64\n",
       "saldo_medio_var33_ult3           float64\n",
       "saldo_medio_var44_hace2          float64\n",
       "saldo_medio_var44_hace3          float64\n",
       "saldo_medio_var44_ult1           float64\n",
       "saldo_medio_var44_ult3           float64\n",
       "var38                            float64\n",
       "TARGET                             int64\n",
       "dtype: object"
      ]
     },
     "execution_count": 7,
     "metadata": {},
     "output_type": "execute_result"
    }
   ],
   "source": [
    "fullData.dtypes"
   ]
  },
  {
   "cell_type": "code",
   "execution_count": 8,
   "metadata": {
    "collapsed": true
   },
   "outputs": [],
   "source": [
    "# remove constant columns (std = 0)\n",
    "remove1 = []\n",
    "for col in fullData.columns:\n",
    "    if fullData[col].std() == 0:\n",
    "        remove1.append(col)"
   ]
  },
  {
   "cell_type": "code",
   "execution_count": 9,
   "metadata": {
    "collapsed": true
   },
   "outputs": [],
   "source": [
    "fullData.drop(remove1, axis=1, inplace=True)"
   ]
  },
  {
   "cell_type": "code",
   "execution_count": 10,
   "metadata": {
    "collapsed": true
   },
   "outputs": [],
   "source": [
    "import numpy as np\n",
    "remove = []\n",
    "cols = fullData.columns\n",
    "for i in range(len(cols)-1):\n",
    "    v = fullData[cols[i]].values\n",
    "    for j in range(i+1,len(cols)):\n",
    "        if np.array_equal(v,fullData[cols[j]].values):\n",
    "            remove.append(cols[j])"
   ]
  },
  {
   "cell_type": "code",
   "execution_count": 11,
   "metadata": {
    "collapsed": true
   },
   "outputs": [],
   "source": [
    "fullData.drop(remove, axis=1, inplace=True)"
   ]
  },
  {
   "cell_type": "code",
   "execution_count": 12,
   "metadata": {
    "collapsed": false
   },
   "outputs": [
    {
     "name": "stdout",
     "output_type": "stream",
     "text": [
      "((121470, 310), (30368, 310))\n"
     ]
    }
   ],
   "source": [
    "from sklearn.cross_validation import train_test_split\n",
    "X_train, X_test = train_test_split(fullData, test_size=0.20, random_state=1729)\n",
    "print(X_train.shape, X_test.shape)\n"
   ]
  },
  {
   "cell_type": "code",
   "execution_count": 13,
   "metadata": {
    "collapsed": true
   },
   "outputs": [],
   "source": [
    "y_train = X_train[\"TARGET\"].values\n",
    "X = X_train.drop([\"TARGET\",\"ID\"],axis=1,inplace = False)\n"
   ]
  },
  {
   "cell_type": "code",
   "execution_count": 14,
   "metadata": {
    "collapsed": false
   },
   "outputs": [
    {
     "data": {
      "text/plain": [
       "array([0, 0, 0, ..., 0, 0, 0])"
      ]
     },
     "execution_count": 14,
     "metadata": {},
     "output_type": "execute_result"
    }
   ],
   "source": [
    "y_train"
   ]
  },
  {
   "cell_type": "code",
   "execution_count": 15,
   "metadata": {
    "collapsed": true
   },
   "outputs": [],
   "source": [
    "from sklearn.ensemble import ExtraTreesClassifier\n",
    "clf = ExtraTreesClassifier(random_state = 2)\n",
    "selector = clf.fit(X, y_train)"
   ]
  },
  {
   "cell_type": "code",
   "execution_count": 16,
   "metadata": {
    "collapsed": false
   },
   "outputs": [
    {
     "data": {
      "image/png": "[encoded data removed]",
      "text/plain": [
       "<matplotlib.figure.Figure at 0x11af6a4d0>"
      ]
     },
     "metadata": {},
     "output_type": "display_data"
    }
   ],
   "source": [
    "import matplotlib.pyplot as plt\n",
    "%matplotlib inline\n",
    "# plot most important features\n",
    "feat_imp = pd.Series(clf.feature_importances_, index = X.columns.values).sort_values(ascending=False)\n",
    "feat_imp[:40].plot(kind='bar', title='Feature Importances according to ExtraTreesClassifier', figsize=(12, 8))\n",
    "plt.ylabel('Feature Importance Score')\n",
    "plt.subplots_adjust(bottom=0.3)\n",
    "#plt.savefig('1.png')\n",
    "plt.show()"
   ]
  },
  {
   "cell_type": "code",
   "execution_count": 17,
   "metadata": {
    "collapsed": true
   },
   "outputs": [],
   "source": [
    "from sklearn.feature_selection import SelectFromModel\n",
    "fs = SelectFromModel(selector, prefit=True)"
   ]
  },
  {
   "cell_type": "code",
   "execution_count": 18,
   "metadata": {
    "collapsed": true
   },
   "outputs": [],
   "source": [
    "X_t = X_test.drop([\"TARGET\",\"ID\"],axis=1,inplace = False)\n",
    "X_t = fs.transform(X_t)"
   ]
  },
  {
   "cell_type": "code",
   "execution_count": 19,
   "metadata": {
    "collapsed": true
   },
   "outputs": [],
   "source": [
    "X_tr = X_train.drop([\"TARGET\",\"ID\"],axis=1,inplace = False)\n",
    "X_tr = fs.transform(X_tr)"
   ]
  },
  {
   "cell_type": "code",
   "execution_count": 20,
   "metadata": {
    "collapsed": false
   },
   "outputs": [
    {
     "data": {
      "text/plain": [
       "(30368, 37)"
      ]
     },
     "execution_count": 20,
     "metadata": {},
     "output_type": "execute_result"
    }
   ],
   "source": [
    "X_t.shape\n"
   ]
  },
  {
   "cell_type": "code",
   "execution_count": 38,
   "metadata": {
    "collapsed": false
   },
   "outputs": [],
   "source": [
    "from sklearn.linear_model import LogisticRegressionCV\n",
    "log = LogisticRegressionCV(penalty ='l2', Cs = [0.00001, 0.0001,\n",
    "                                                0.001, 0.01, 0.1, 1,\n",
    "                                                10, 100,1000], \n",
    "                           random_state = 1, \n",
    "                        )"
   ]
  },
  {
   "cell_type": "code",
   "execution_count": 39,
   "metadata": {
    "collapsed": false
   },
   "outputs": [],
   "source": [
    "from sklearn import cross_validation\n",
    "scores = cross_validation.cross_val_score(log,X_tr,y_train,cv = 5)"
   ]
  },
  {
   "cell_type": "code",
   "execution_count": 35,
   "metadata": {
    "collapsed": false
   },
   "outputs": [
    {
     "name": "stdout",
     "output_type": "stream",
     "text": [
      "0.980102092636\n",
      "6.58587987355e-05\n"
     ]
    }
   ],
   "source": [
    "print(scores.mean())\n",
    "log.fit(X_tr,y_train)\n",
    "predictions = log.predict(X_t)\n",
    "predictions = predictions.astype(int)\n",
    "print(predictions.mean())"
   ]
  },
  {
   "cell_type": "code",
   "execution_count": 175,
   "metadata": {
    "collapsed": false
   },
   "outputs": [],
   "source": [
    "from sklearn.ensemble import RandomForestClassifier\n",
    "clf = RandomForestClassifier(n_estimators = 100, max_depth = 8, random_state=1,min_samples_leaf = 3)"
   ]
  },
  {
   "cell_type": "code",
   "execution_count": 176,
   "metadata": {
    "collapsed": false
   },
   "outputs": [
    {
     "name": "stdout",
     "output_type": "stream",
     "text": [
      "0.821519618644\n"
     ]
    }
   ],
   "source": [
    "scores = cross_validation.cross_val_score(clf, X_tr, y_train, scoring='roc_auc', cv = 10) \n",
    "print(scores.mean())"
   ]
  },
  {
   "cell_type": "code",
   "execution_count": 177,
   "metadata": {
    "collapsed": false
   },
   "outputs": [
    {
     "name": "stdout",
     "output_type": "stream",
     "text": [
      "0.5\n"
     ]
    }
   ],
   "source": [
    "clf.fit(X_tr, y_train)\n",
    "y_pred = clf.predict_proba(X_t)\n",
    "print(y_pred.mean())"
   ]
  },
  {
   "cell_type": "code",
   "execution_count": 179,
   "metadata": {
    "collapsed": false
   },
   "outputs": [
    {
     "name": "stdout",
     "output_type": "stream",
     "text": [
      "0.980027992332\n"
     ]
    }
   ],
   "source": [
    "from sklearn.ensemble import GradientBoostingClassifier\n",
    "alg_gbm = GradientBoostingClassifier(random_state=1, n_estimators=25, max_depth=3)\n",
    "scores2 = cross_validation.cross_val_score(alg_gbm,X_tr,y_train,cv=8)\n",
    "print(scores2.mean())"
   ]
  },
  {
   "cell_type": "code",
   "execution_count": 180,
   "metadata": {
    "collapsed": false
   },
   "outputs": [
    {
     "name": "stdout",
     "output_type": "stream",
     "text": [
      "0.5\n"
     ]
    }
   ],
   "source": [
    "alg_gbm.fit(X_tr, y_train)\n",
    "y_pred1 = alg_gbm.predict_proba(X_t)\n",
    "print(y_pred1.mean())"
   ]
  },
  {
   "cell_type": "code",
   "execution_count": 1,
   "metadata": {
    "collapsed": true
   },
   "outputs": [],
   "source": [
    "###\n"
   ]
  },
  {
   "cell_type": "code",
   "execution_count": 2,
   "metadata": {
    "collapsed": false
   },
   "outputs": [
    {
     "name": "stdout",
     "output_type": "stream",
     "text": [
      "((60816, 306), (15204, 306), (75818, 306))\n",
      "((60816, 36), (15204, 36), (75818, 36))\n"
     ]
    }
   ],
   "source": [
    "import pandas as pd\n",
    "import numpy as np\n",
    "\n",
    "from sklearn.cross_validation import train_test_split\n",
    "from sklearn.metrics import roc_auc_score\n",
    "from sklearn.ensemble import ExtraTreesClassifier\n",
    "from sklearn.feature_selection import SelectFromModel\n",
    "\n",
    "\n",
    "import matplotlib.pyplot as plt\n",
    "\n",
    "train = pd.read_csv(\"/Users/prashantmudgal/Documents/Kaggle/Santander/train.csv\")\n",
    "\n",
    "test = pd.read_csv(\"/Users/prashantmudgal/Documents/Kaggle/Santander/test.csv\")\n",
    "\n",
    "# clean and split data\n",
    "\n",
    "# remove constant columns (std = 0)\n",
    "remove = []\n",
    "for col in train.columns:\n",
    "    if train[col].std() == 0:\n",
    "        remove.append(col)\n",
    "\n",
    "train.drop(remove, axis=1, inplace=True)\n",
    "test.drop(remove, axis=1, inplace=True)\n",
    "\n",
    "# remove duplicated columns\n",
    "remove = []\n",
    "cols = train.columns\n",
    "for i in range(len(cols)-1):\n",
    "    v = train[cols[i]].values\n",
    "    for j in range(i+1,len(cols)):\n",
    "        if np.array_equal(v,train[cols[j]].values):\n",
    "            remove.append(cols[j])\n",
    "\n",
    "train.drop(remove, axis=1, inplace=True)\n",
    "test.drop(remove, axis=1, inplace=True)\n",
    "\n",
    "# split data into train and test\n",
    "test_id = test.ID\n",
    "test = test.drop([\"ID\"],axis=1)\n",
    "\n",
    "X = train.drop([\"TARGET\",\"ID\"],axis=1)\n",
    "y = train.TARGET.values\n",
    "\n",
    "X_train, X_test, y_train, y_test = train_test_split(X, y, test_size=0.20, random_state=1729)\n",
    "print(X_train.shape, X_test.shape, test.shape)\n",
    "\n",
    "## # Feature selection\n",
    "clf = ExtraTreesClassifier(random_state=1729)\n",
    "selector = clf.fit(X_train, y_train)\n",
    "# plot most important features\n",
    "feat_imp = pd.Series(clf.feature_importances_, index = X_train.columns.values).sort_values(ascending=False)\n",
    "feat_imp[:40].plot(kind='bar', title='Feature Importances according to ExtraTreesClassifier', figsize=(12, 8))\n",
    "plt.ylabel('Feature Importance Score')\n",
    "plt.subplots_adjust(bottom=0.3)\n",
    "plt.savefig('1.png')\n",
    "plt.show()\n",
    "\n",
    "# clf.feature_importances_ \n",
    "fs = SelectFromModel(selector, prefit=True)\n",
    "\n",
    "X_train = fs.transform(X_train)\n",
    "X_test = fs.transform(X_test)\n",
    "test = fs.transform(test)\n",
    "\n",
    "print(X_train.shape, X_test.shape, test.shape)\n",
    "\n"
   ]
  },
  {
   "cell_type": "code",
   "execution_count": 4,
   "metadata": {
    "collapsed": false
   },
   "outputs": [
    {
     "name": "stdout",
     "output_type": "stream",
     "text": [
      "0.960684691558\n",
      "0.000131544330439\n"
     ]
    }
   ],
   "source": [
    "from sklearn.linear_model import LogisticRegression\n",
    "log = LogisticRegression(penalty ='l2', C = 1, random_state = 1, \n",
    "                        )\n",
    "from sklearn import cross_validation\n",
    "scores = cross_validation.cross_val_score(log,X_train,y_train,cv = 10)\n",
    "print(scores.mean())\n",
    "log.fit(X_train,y_train)\n",
    "predictions = log.predict(X_test)\n",
    "predictions = predictions.astype(int)\n",
    "print(predictions.mean())"
   ]
  },
  {
   "cell_type": "code",
   "execution_count": 6,
   "metadata": {
    "collapsed": false
   },
   "outputs": [],
   "source": [
    "import xgboost as xgb\n"
   ]
  },
  {
   "cell_type": "code",
   "execution_count": 7,
   "metadata": {
    "collapsed": false
   },
   "outputs": [
    {
     "name": "stdout",
     "output_type": "stream",
     "text": [
      "('Roc AUC: ', 0.83165213548566408)\n"
     ]
    }
   ],
   "source": [
    "m2_xgb = xgb.XGBClassifier(n_estimators=110, nthread=-1, max_depth = 4, \\\n",
    "seed=1729)\n",
    "m2_xgb.fit(X_train, y_train, eval_metric=\"auc\", verbose = False,\n",
    "           eval_set=[(X_test, y_test)])\n",
    "\n",
    "# calculate the auc score\n",
    "print(\"Roc AUC: \", roc_auc_score(y_test, m2_xgb.predict_proba(X_test)[:,1],\n",
    "              average='macro'))\n",
    "              \n",
    "## # Submission\n",
    "probs = m2_xgb.predict_proba(test)\n"
   ]
  },
  {
   "cell_type": "code",
   "execution_count": null,
   "metadata": {
    "collapsed": true
   },
   "outputs": [],
   "source": [
    "import scipy, scipy.stats.chisquare\n",
    " \n",
    "observed_values = predictions \n",
    "expected_values = test['TARGET']\n",
    " \n",
    "chisquare(observed_values, f_exp = expected_values)\n",
    "\n"
   ]
  }
 ],
 "metadata": {
  "kernelspec": {
   "display_name": "Python 2",
   "language": "python",
   "name": "python2"
  },
  "language_info": {
   "codemirror_mode": {
    "name": "ipython",
    "version": 2
   },
   "file_extension": ".py",
   "mimetype": "text/x-python",
   "name": "python",
   "nbconvert_exporter": "python",
   "pygments_lexer": "ipython2",
   "version": "2.7.11"
  }
 },
 "nbformat": 4,
 "nbformat_minor": 0
}
